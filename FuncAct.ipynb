{
  "nbformat": 4,
  "nbformat_minor": 0,
  "metadata": {
    "colab": {
      "name": "FuncAct.ipynb",
      "provenance": [],
      "collapsed_sections": [],
      "authorship_tag": "ABX9TyMdYP4Icsc/OqezYkkRmENN",
      "include_colab_link": true
    },
    "kernelspec": {
      "name": "python3",
      "display_name": "Python 3"
    },
    "language_info": {
      "name": "python"
    }
  },
  "cells": [
    {
      "cell_type": "markdown",
      "metadata": {
        "id": "view-in-github",
        "colab_type": "text"
      },
      "source": [
        "<a href=\"https://colab.research.google.com/github/uli-wizrd/Perceptron/blob/main/FuncAct.ipynb\" target=\"_parent\"><img src=\"https://colab.research.google.com/assets/colab-badge.svg\" alt=\"Open In Colab\"/></a>"
      ]
    },
    {
      "cell_type": "code",
      "metadata": {
        "id": "Ra1UFliIYLqO"
      },
      "source": [
        "!pip install tensorflow\n"
      ],
      "execution_count": null,
      "outputs": []
    },
    {
      "cell_type": "code",
      "metadata": {
        "id": "ivFfCVjMYOCt"
      },
      "source": [
        "import tensorflow as tf\n",
        "import numpy as np\n",
        "import math\n",
        "import matplotlib.pyplot as plt"
      ],
      "execution_count": 7,
      "outputs": []
    },
    {
      "cell_type": "markdown",
      "metadata": {
        "id": "7HPBIM6NoKe-"
      },
      "source": [
        "En la seccion siguiente de codigo unicamente definimos las entradas a la funcion de transferencia, estas entradas son los valores que corresponden a caracteristicas extraidas del objeto a clasificar despues de haberse multiplicado por una matriz de pesos y habersele sumado el factor bias a cada uno de estos resultados previos, o en caso de tener una red CNN seran los valores resultantes de la convolucion."
      ]
    },
    {
      "cell_type": "code",
      "metadata": {
        "id": "jLtKZ2qpoe2c"
      },
      "source": [
        ""
      ],
      "execution_count": null,
      "outputs": []
    },
    {
      "cell_type": "code",
      "metadata": {
        "id": "VPeP42C5ZH_o"
      },
      "source": [
        "v=np.linspace(-10.0,10.0,200)"
      ],
      "execution_count": 15,
      "outputs": []
    },
    {
      "cell_type": "markdown",
      "metadata": {
        "id": "JuvqfCfKtnFA"
      },
      "source": [
        "Ahora definiremos todas las funciones de activación mostradas en la tabla mostrada durante las sesiones, para tener una muestra un poco mas grande de la que viene ilustrada en el material de referencia."
      ]
    },
    {
      "cell_type": "code",
      "metadata": {
        "id": "cXrl-4880-iA"
      },
      "source": [
        "# La siguiente función es Hard Limit\n",
        "def HL(x):\n",
        "  cond=tf.less(x,tf.zeros(tf.shape(x)))\n",
        "  #cond sera un vector, tal que contendra el resultado de evaluar la funcion \n",
        "  #less ella hace una comparacion elemento a elemento utilizando el operador\n",
        "  #<, si se cumple, la salida sera un valor booleano true, de lo contrario\n",
        "  #sera un falso entonces tendremos cond=[True,False..,True]\n",
        "  out=tf.where(cond,tf.zeros(tf.shape(x)),tf.ones(tf.shape(x)))\n",
        "  #out sera el vector salida que contiene el resultado de evaluar la funcion\n",
        "  #Hard Limit, los parámetros de where son los siguientes (condition,x,y)\n",
        "  #condition es un vector que contiene valores booleanos, y para los elementos\n",
        "  #verdaderos toma el valor correspondiente de x y viceversa\n",
        "  return out\n"
      ],
      "execution_count": 39,
      "outputs": []
    },
    {
      "cell_type": "markdown",
      "metadata": {
        "id": "hINVVy328LU_"
      },
      "source": [
        "Tomando la definición previa podemos escribir también la funcion Symmetrical Hard Limit"
      ]
    },
    {
      "cell_type": "code",
      "metadata": {
        "id": "Y3OFmosUBG4L"
      },
      "source": [
        "# La siguiente función es Hard Limit\n",
        "def SHL(x):\n",
        "  #Unicamente hace falta proporcionar el valor de salida adecuado para entradas\n",
        "  #que son menores a 0, esto lo haremos combinando numpy con tensorflow\n",
        "  #creando precisamente este vector de salidas\n",
        "  b=-1\n",
        "  c=np.ones((len(x)))\n",
        "  k=b*c\n",
        "  cond=tf.less(x,tf.zeros(tf.shape(x)))\n",
        "  out=tf.where(cond,k,tf.ones(tf.shape(x)))\n",
        "  return out"
      ],
      "execution_count": 61,
      "outputs": []
    },
    {
      "cell_type": "code",
      "metadata": {
        "id": "dv6DocsVoF1o"
      },
      "source": [
        "fa=tf.sigmoid(v)\n",
        "fb=tf.keras.activations.linear(v)\n",
        "fc=HL(v)\n",
        "fd=SHL(v)\n"
      ],
      "execution_count": null,
      "outputs": []
    },
    {
      "cell_type": "code",
      "metadata": {
        "id": "AfQ_vI4NokAj"
      },
      "source": [
        "              fig, ax = plt.subplots(facecolor=('whitesmoke'))\n",
        "              ax.set_facecolor('white')\n",
        "              ax.set_title('Gráfica de la función Log-Sigmoid', color='k')\n",
        "              ax.set_xlabel('Valores de entrada (n)', color='k')\n",
        "              ax.set_ylabel('Valores de salida (a)', color='k')\n",
        "              ax.plot(v, fa, color='cornflowerblue', linestyle='-',linewidth=2)\n",
        "              plt.grid(color='k', linestyle='-', linewidth=0.7)\n",
        "              ax.tick_params(labelcolor='k')\n",
        "              plt.show()"
      ],
      "execution_count": null,
      "outputs": []
    },
    {
      "cell_type": "code",
      "metadata": {
        "id": "q26ME0VZ0Nry"
      },
      "source": [
        "              fig, ax = plt.subplots(facecolor=('whitesmoke'))\n",
        "              ax.set_facecolor('white')\n",
        "              ax.set_title('Gráfica de la función Linear', color='k')\n",
        "              ax.set_xlabel('Valores de entrada (n)', color='k')\n",
        "              ax.set_ylabel('Valores de salida (a)', color='k')\n",
        "              ax.plot(v, fb, color='cornflowerblue', linestyle='-',linewidth=2)\n",
        "              plt.grid(color='k', linestyle='-', linewidth=0.7)\n",
        "              ax.tick_params(labelcolor='k')\n",
        "              plt.show()"
      ],
      "execution_count": null,
      "outputs": []
    },
    {
      "cell_type": "code",
      "metadata": {
        "id": "1SootMf97172"
      },
      "source": [
        "              fig, ax = plt.subplots(facecolor=('whitesmoke'))\n",
        "              ax.set_facecolor('white')\n",
        "              ax.set_title('Gráfica de la función Hard Limit', color='k')\n",
        "              ax.set_xlabel('Valores de entrada (n)', color='k')\n",
        "              ax.set_ylabel('Valores de salida (a)', color='k')\n",
        "              ax.plot(v, fc, color='cornflowerblue', linestyle='-',linewidth=2)\n",
        "              plt.grid(color='k', linestyle='-', linewidth=0.7)\n",
        "              ax.tick_params(labelcolor='k')\n",
        "              plt.show()"
      ],
      "execution_count": null,
      "outputs": []
    },
    {
      "cell_type": "code",
      "metadata": {
        "id": "p3MKxKCOBxGR"
      },
      "source": [
        "              fig, ax = plt.subplots(facecolor=('whitesmoke'))\n",
        "              ax.set_facecolor('white')\n",
        "              ax.set_title('Gráfica de la función Symmetrical Hard Limit', color='k')\n",
        "              ax.set_xlabel('Valores de entrada (n)', color='k')\n",
        "              ax.set_ylabel('Valores de salida (a)', color='k')\n",
        "              ax.plot(v, fd, color='cornflowerblue', linestyle='-',linewidth=2)\n",
        "              plt.grid(color='k', linestyle='-', linewidth=0.7)\n",
        "              ax.tick_params(labelcolor='k')\n",
        "              plt.show()"
      ],
      "execution_count": null,
      "outputs": []
    }
  ]
}